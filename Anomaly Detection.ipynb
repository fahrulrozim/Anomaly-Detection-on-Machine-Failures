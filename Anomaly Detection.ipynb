{
 "cells": [
  {
   "cell_type": "markdown",
   "id": "e617f365",
   "metadata": {},
   "source": [
    "## Anomaly Detection on Machine Failures\n",
    "### Import library"
   ]
  },
  {
   "cell_type": "code",
   "execution_count": 1,
   "id": "11ba4326",
   "metadata": {},
   "outputs": [],
   "source": [
    "import pandas as pd\n",
    "import numpy as np\n",
    "import matplotlib.pyplot as plt\n",
    "\n",
    "from statsmodels.tsa.stattools import adfuller\n",
    "from statsmodels.tsa.stattools import kpss\n",
    "from statsmodels.tsa.api import VAR\n",
    "\n",
    "import warnings\n",
    "warnings.filterwarnings(\"ignore\")"
   ]
  },
  {
   "cell_type": "markdown",
   "id": "53b990b8",
   "metadata": {},
   "source": [
    "### Load data"
   ]
  },
  {
   "cell_type": "code",
   "execution_count": 2,
   "id": "3506f66a",
   "metadata": {},
   "outputs": [
    {
     "data": {
      "text/html": [
       "<div>\n",
       "<style scoped>\n",
       "    .dataframe tbody tr th:only-of-type {\n",
       "        vertical-align: middle;\n",
       "    }\n",
       "\n",
       "    .dataframe tbody tr th {\n",
       "        vertical-align: top;\n",
       "    }\n",
       "\n",
       "    .dataframe thead th {\n",
       "        text-align: right;\n",
       "    }\n",
       "</style>\n",
       "<table border=\"1\" class=\"dataframe\">\n",
       "  <thead>\n",
       "    <tr style=\"text-align: right;\">\n",
       "      <th></th>\n",
       "      <th>Unnamed: 0</th>\n",
       "      <th>Bearing 1</th>\n",
       "      <th>Bearing 2</th>\n",
       "      <th>Bearing 3</th>\n",
       "      <th>Bearing 4</th>\n",
       "    </tr>\n",
       "  </thead>\n",
       "  <tbody>\n",
       "    <tr>\n",
       "      <th>0</th>\n",
       "      <td>2004-02-12 10:52:39</td>\n",
       "      <td>0.060236</td>\n",
       "      <td>0.074227</td>\n",
       "      <td>0.083926</td>\n",
       "      <td>0.044443</td>\n",
       "    </tr>\n",
       "    <tr>\n",
       "      <th>1</th>\n",
       "      <td>2004-02-12 11:02:39</td>\n",
       "      <td>0.061455</td>\n",
       "      <td>0.073844</td>\n",
       "      <td>0.084457</td>\n",
       "      <td>0.045081</td>\n",
       "    </tr>\n",
       "    <tr>\n",
       "      <th>2</th>\n",
       "      <td>2004-02-12 11:12:39</td>\n",
       "      <td>0.061361</td>\n",
       "      <td>0.075609</td>\n",
       "      <td>0.082837</td>\n",
       "      <td>0.045118</td>\n",
       "    </tr>\n",
       "    <tr>\n",
       "      <th>3</th>\n",
       "      <td>2004-02-12 11:22:39</td>\n",
       "      <td>0.061665</td>\n",
       "      <td>0.073279</td>\n",
       "      <td>0.084879</td>\n",
       "      <td>0.044172</td>\n",
       "    </tr>\n",
       "    <tr>\n",
       "      <th>4</th>\n",
       "      <td>2004-02-12 11:32:39</td>\n",
       "      <td>0.061944</td>\n",
       "      <td>0.074593</td>\n",
       "      <td>0.082626</td>\n",
       "      <td>0.044659</td>\n",
       "    </tr>\n",
       "  </tbody>\n",
       "</table>\n",
       "</div>"
      ],
      "text/plain": [
       "           Unnamed: 0  Bearing 1  Bearing 2  Bearing 3  Bearing 4\n",
       "0 2004-02-12 10:52:39   0.060236   0.074227   0.083926   0.044443\n",
       "1 2004-02-12 11:02:39   0.061455   0.073844   0.084457   0.045081\n",
       "2 2004-02-12 11:12:39   0.061361   0.075609   0.082837   0.045118\n",
       "3 2004-02-12 11:22:39   0.061665   0.073279   0.084879   0.044172\n",
       "4 2004-02-12 11:32:39   0.061944   0.074593   0.082626   0.044659"
      ]
     },
     "execution_count": 2,
     "metadata": {},
     "output_type": "execute_result"
    }
   ],
   "source": [
    "df = pd.read_excel(\"Downloads/BearingVibration_Dataset.xlsx\")#, parse_dates=['Unnamed: 0'])\n",
    "df.head()"
   ]
  },
  {
   "cell_type": "code",
   "execution_count": 3,
   "id": "b893c510",
   "metadata": {},
   "outputs": [
    {
     "data": {
      "text/html": [
       "<div>\n",
       "<style scoped>\n",
       "    .dataframe tbody tr th:only-of-type {\n",
       "        vertical-align: middle;\n",
       "    }\n",
       "\n",
       "    .dataframe tbody tr th {\n",
       "        vertical-align: top;\n",
       "    }\n",
       "\n",
       "    .dataframe thead th {\n",
       "        text-align: right;\n",
       "    }\n",
       "</style>\n",
       "<table border=\"1\" class=\"dataframe\">\n",
       "  <thead>\n",
       "    <tr style=\"text-align: right;\">\n",
       "      <th></th>\n",
       "      <th>datetime</th>\n",
       "      <th>Bearing 1</th>\n",
       "      <th>Bearing 2</th>\n",
       "      <th>Bearing 3</th>\n",
       "      <th>Bearing 4</th>\n",
       "    </tr>\n",
       "  </thead>\n",
       "  <tbody>\n",
       "    <tr>\n",
       "      <th>0</th>\n",
       "      <td>2004-02-12 10:52:39</td>\n",
       "      <td>0.060236</td>\n",
       "      <td>0.074227</td>\n",
       "      <td>0.083926</td>\n",
       "      <td>0.044443</td>\n",
       "    </tr>\n",
       "    <tr>\n",
       "      <th>1</th>\n",
       "      <td>2004-02-12 11:02:39</td>\n",
       "      <td>0.061455</td>\n",
       "      <td>0.073844</td>\n",
       "      <td>0.084457</td>\n",
       "      <td>0.045081</td>\n",
       "    </tr>\n",
       "    <tr>\n",
       "      <th>2</th>\n",
       "      <td>2004-02-12 11:12:39</td>\n",
       "      <td>0.061361</td>\n",
       "      <td>0.075609</td>\n",
       "      <td>0.082837</td>\n",
       "      <td>0.045118</td>\n",
       "    </tr>\n",
       "    <tr>\n",
       "      <th>3</th>\n",
       "      <td>2004-02-12 11:22:39</td>\n",
       "      <td>0.061665</td>\n",
       "      <td>0.073279</td>\n",
       "      <td>0.084879</td>\n",
       "      <td>0.044172</td>\n",
       "    </tr>\n",
       "    <tr>\n",
       "      <th>4</th>\n",
       "      <td>2004-02-12 11:32:39</td>\n",
       "      <td>0.061944</td>\n",
       "      <td>0.074593</td>\n",
       "      <td>0.082626</td>\n",
       "      <td>0.044659</td>\n",
       "    </tr>\n",
       "  </tbody>\n",
       "</table>\n",
       "</div>"
      ],
      "text/plain": [
       "             datetime  Bearing 1  Bearing 2  Bearing 3  Bearing 4\n",
       "0 2004-02-12 10:52:39   0.060236   0.074227   0.083926   0.044443\n",
       "1 2004-02-12 11:02:39   0.061455   0.073844   0.084457   0.045081\n",
       "2 2004-02-12 11:12:39   0.061361   0.075609   0.082837   0.045118\n",
       "3 2004-02-12 11:22:39   0.061665   0.073279   0.084879   0.044172\n",
       "4 2004-02-12 11:32:39   0.061944   0.074593   0.082626   0.044659"
      ]
     },
     "execution_count": 3,
     "metadata": {},
     "output_type": "execute_result"
    }
   ],
   "source": [
    "df = df.rename(columns = {'Unnamed: 0' : 'datetime'})\n",
    "df.head()"
   ]
  },
  {
   "cell_type": "code",
   "execution_count": 4,
   "id": "a031f047",
   "metadata": {},
   "outputs": [
    {
     "data": {
      "text/html": [
       "<div>\n",
       "<style scoped>\n",
       "    .dataframe tbody tr th:only-of-type {\n",
       "        vertical-align: middle;\n",
       "    }\n",
       "\n",
       "    .dataframe tbody tr th {\n",
       "        vertical-align: top;\n",
       "    }\n",
       "\n",
       "    .dataframe thead th {\n",
       "        text-align: right;\n",
       "    }\n",
       "</style>\n",
       "<table border=\"1\" class=\"dataframe\">\n",
       "  <thead>\n",
       "    <tr style=\"text-align: right;\">\n",
       "      <th></th>\n",
       "      <th>Bearing 1</th>\n",
       "      <th>Bearing 2</th>\n",
       "      <th>Bearing 3</th>\n",
       "      <th>Bearing 4</th>\n",
       "    </tr>\n",
       "    <tr>\n",
       "      <th>datetime</th>\n",
       "      <th></th>\n",
       "      <th></th>\n",
       "      <th></th>\n",
       "      <th></th>\n",
       "    </tr>\n",
       "  </thead>\n",
       "  <tbody>\n",
       "    <tr>\n",
       "      <th>2004-02-12 10:52:39</th>\n",
       "      <td>0.060236</td>\n",
       "      <td>0.074227</td>\n",
       "      <td>0.083926</td>\n",
       "      <td>0.044443</td>\n",
       "    </tr>\n",
       "    <tr>\n",
       "      <th>2004-02-12 11:02:39</th>\n",
       "      <td>0.061455</td>\n",
       "      <td>0.073844</td>\n",
       "      <td>0.084457</td>\n",
       "      <td>0.045081</td>\n",
       "    </tr>\n",
       "    <tr>\n",
       "      <th>2004-02-12 11:12:39</th>\n",
       "      <td>0.061361</td>\n",
       "      <td>0.075609</td>\n",
       "      <td>0.082837</td>\n",
       "      <td>0.045118</td>\n",
       "    </tr>\n",
       "    <tr>\n",
       "      <th>2004-02-12 11:22:39</th>\n",
       "      <td>0.061665</td>\n",
       "      <td>0.073279</td>\n",
       "      <td>0.084879</td>\n",
       "      <td>0.044172</td>\n",
       "    </tr>\n",
       "    <tr>\n",
       "      <th>2004-02-12 11:32:39</th>\n",
       "      <td>0.061944</td>\n",
       "      <td>0.074593</td>\n",
       "      <td>0.082626</td>\n",
       "      <td>0.044659</td>\n",
       "    </tr>\n",
       "  </tbody>\n",
       "</table>\n",
       "</div>"
      ],
      "text/plain": [
       "                     Bearing 1  Bearing 2  Bearing 3  Bearing 4\n",
       "datetime                                                       \n",
       "2004-02-12 10:52:39   0.060236   0.074227   0.083926   0.044443\n",
       "2004-02-12 11:02:39   0.061455   0.073844   0.084457   0.045081\n",
       "2004-02-12 11:12:39   0.061361   0.075609   0.082837   0.045118\n",
       "2004-02-12 11:22:39   0.061665   0.073279   0.084879   0.044172\n",
       "2004-02-12 11:32:39   0.061944   0.074593   0.082626   0.044659"
      ]
     },
     "execution_count": 4,
     "metadata": {},
     "output_type": "execute_result"
    }
   ],
   "source": [
    "df_index = df.set_index('datetime')\n",
    "df_index.head()"
   ]
  },
  {
   "cell_type": "markdown",
   "id": "a91cb828",
   "metadata": {},
   "source": [
    "### Check missing values of data"
   ]
  },
  {
   "cell_type": "code",
   "execution_count": 5,
   "id": "f67474c2",
   "metadata": {
    "scrolled": true
   },
   "outputs": [
    {
     "name": "stdout",
     "output_type": "stream",
     "text": [
      "<class 'pandas.core.frame.DataFrame'>\n",
      "RangeIndex: 982 entries, 0 to 981\n",
      "Data columns (total 5 columns):\n",
      " #   Column     Non-Null Count  Dtype         \n",
      "---  ------     --------------  -----         \n",
      " 0   datetime   982 non-null    datetime64[ns]\n",
      " 1   Bearing 1  982 non-null    float64       \n",
      " 2   Bearing 2  982 non-null    float64       \n",
      " 3   Bearing 3  982 non-null    float64       \n",
      " 4   Bearing 4  982 non-null    float64       \n",
      "dtypes: datetime64[ns](1), float64(4)\n",
      "memory usage: 38.5 KB\n"
     ]
    }
   ],
   "source": [
    "df.info()"
   ]
  },
  {
   "cell_type": "code",
   "execution_count": 6,
   "id": "0dc33032",
   "metadata": {},
   "outputs": [
    {
     "name": "stdout",
     "output_type": "stream",
     "text": [
      "<class 'pandas.core.frame.DataFrame'>\n",
      "DatetimeIndex: 982 entries, 2004-02-12 10:52:39 to 2004-02-19 06:22:39\n",
      "Data columns (total 4 columns):\n",
      " #   Column     Non-Null Count  Dtype  \n",
      "---  ------     --------------  -----  \n",
      " 0   Bearing 1  982 non-null    float64\n",
      " 1   Bearing 2  982 non-null    float64\n",
      " 2   Bearing 3  982 non-null    float64\n",
      " 3   Bearing 4  982 non-null    float64\n",
      "dtypes: float64(4)\n",
      "memory usage: 38.4 KB\n"
     ]
    }
   ],
   "source": [
    "df_index.info()"
   ]
  },
  {
   "cell_type": "code",
   "execution_count": 7,
   "id": "ab16dc52",
   "metadata": {},
   "outputs": [
    {
     "data": {
      "text/html": [
       "<div>\n",
       "<style scoped>\n",
       "    .dataframe tbody tr th:only-of-type {\n",
       "        vertical-align: middle;\n",
       "    }\n",
       "\n",
       "    .dataframe tbody tr th {\n",
       "        vertical-align: top;\n",
       "    }\n",
       "\n",
       "    .dataframe thead th {\n",
       "        text-align: right;\n",
       "    }\n",
       "</style>\n",
       "<table border=\"1\" class=\"dataframe\">\n",
       "  <thead>\n",
       "    <tr style=\"text-align: right;\">\n",
       "      <th></th>\n",
       "      <th>Bearing 1</th>\n",
       "      <th>Bearing 2</th>\n",
       "      <th>Bearing 3</th>\n",
       "      <th>Bearing 4</th>\n",
       "    </tr>\n",
       "  </thead>\n",
       "  <tbody>\n",
       "    <tr>\n",
       "      <th>count</th>\n",
       "      <td>982.000000</td>\n",
       "      <td>982.000000</td>\n",
       "      <td>982.000000</td>\n",
       "      <td>982.000000</td>\n",
       "    </tr>\n",
       "    <tr>\n",
       "      <th>mean</th>\n",
       "      <td>0.080951</td>\n",
       "      <td>0.078543</td>\n",
       "      <td>0.081351</td>\n",
       "      <td>0.047830</td>\n",
       "    </tr>\n",
       "    <tr>\n",
       "      <th>std</th>\n",
       "      <td>0.040200</td>\n",
       "      <td>0.011789</td>\n",
       "      <td>0.011607</td>\n",
       "      <td>0.009549</td>\n",
       "    </tr>\n",
       "    <tr>\n",
       "      <th>min</th>\n",
       "      <td>0.001168</td>\n",
       "      <td>0.000767</td>\n",
       "      <td>0.000716</td>\n",
       "      <td>0.001699</td>\n",
       "    </tr>\n",
       "    <tr>\n",
       "      <th>25%</th>\n",
       "      <td>0.060773</td>\n",
       "      <td>0.074240</td>\n",
       "      <td>0.076829</td>\n",
       "      <td>0.043951</td>\n",
       "    </tr>\n",
       "    <tr>\n",
       "      <th>50%</th>\n",
       "      <td>0.062021</td>\n",
       "      <td>0.075206</td>\n",
       "      <td>0.078187</td>\n",
       "      <td>0.044524</td>\n",
       "    </tr>\n",
       "    <tr>\n",
       "      <th>75%</th>\n",
       "      <td>0.083277</td>\n",
       "      <td>0.077458</td>\n",
       "      <td>0.080575</td>\n",
       "      <td>0.048130</td>\n",
       "    </tr>\n",
       "    <tr>\n",
       "      <th>max</th>\n",
       "      <td>0.453335</td>\n",
       "      <td>0.161016</td>\n",
       "      <td>0.151299</td>\n",
       "      <td>0.119047</td>\n",
       "    </tr>\n",
       "  </tbody>\n",
       "</table>\n",
       "</div>"
      ],
      "text/plain": [
       "        Bearing 1   Bearing 2   Bearing 3   Bearing 4\n",
       "count  982.000000  982.000000  982.000000  982.000000\n",
       "mean     0.080951    0.078543    0.081351    0.047830\n",
       "std      0.040200    0.011789    0.011607    0.009549\n",
       "min      0.001168    0.000767    0.000716    0.001699\n",
       "25%      0.060773    0.074240    0.076829    0.043951\n",
       "50%      0.062021    0.075206    0.078187    0.044524\n",
       "75%      0.083277    0.077458    0.080575    0.048130\n",
       "max      0.453335    0.161016    0.151299    0.119047"
      ]
     },
     "execution_count": 7,
     "metadata": {},
     "output_type": "execute_result"
    }
   ],
   "source": [
    "df.describe()"
   ]
  },
  {
   "cell_type": "code",
   "execution_count": 8,
   "id": "72192dc4",
   "metadata": {},
   "outputs": [
    {
     "data": {
      "text/html": [
       "<div>\n",
       "<style scoped>\n",
       "    .dataframe tbody tr th:only-of-type {\n",
       "        vertical-align: middle;\n",
       "    }\n",
       "\n",
       "    .dataframe tbody tr th {\n",
       "        vertical-align: top;\n",
       "    }\n",
       "\n",
       "    .dataframe thead th {\n",
       "        text-align: right;\n",
       "    }\n",
       "</style>\n",
       "<table border=\"1\" class=\"dataframe\">\n",
       "  <thead>\n",
       "    <tr style=\"text-align: right;\">\n",
       "      <th></th>\n",
       "      <th>Bearing 1</th>\n",
       "      <th>Bearing 2</th>\n",
       "      <th>Bearing 3</th>\n",
       "      <th>Bearing 4</th>\n",
       "    </tr>\n",
       "  </thead>\n",
       "  <tbody>\n",
       "    <tr>\n",
       "      <th>count</th>\n",
       "      <td>982.000000</td>\n",
       "      <td>982.000000</td>\n",
       "      <td>982.000000</td>\n",
       "      <td>982.000000</td>\n",
       "    </tr>\n",
       "    <tr>\n",
       "      <th>mean</th>\n",
       "      <td>0.080951</td>\n",
       "      <td>0.078543</td>\n",
       "      <td>0.081351</td>\n",
       "      <td>0.047830</td>\n",
       "    </tr>\n",
       "    <tr>\n",
       "      <th>std</th>\n",
       "      <td>0.040200</td>\n",
       "      <td>0.011789</td>\n",
       "      <td>0.011607</td>\n",
       "      <td>0.009549</td>\n",
       "    </tr>\n",
       "    <tr>\n",
       "      <th>min</th>\n",
       "      <td>0.001168</td>\n",
       "      <td>0.000767</td>\n",
       "      <td>0.000716</td>\n",
       "      <td>0.001699</td>\n",
       "    </tr>\n",
       "    <tr>\n",
       "      <th>25%</th>\n",
       "      <td>0.060773</td>\n",
       "      <td>0.074240</td>\n",
       "      <td>0.076829</td>\n",
       "      <td>0.043951</td>\n",
       "    </tr>\n",
       "    <tr>\n",
       "      <th>50%</th>\n",
       "      <td>0.062021</td>\n",
       "      <td>0.075206</td>\n",
       "      <td>0.078187</td>\n",
       "      <td>0.044524</td>\n",
       "    </tr>\n",
       "    <tr>\n",
       "      <th>75%</th>\n",
       "      <td>0.083277</td>\n",
       "      <td>0.077458</td>\n",
       "      <td>0.080575</td>\n",
       "      <td>0.048130</td>\n",
       "    </tr>\n",
       "    <tr>\n",
       "      <th>max</th>\n",
       "      <td>0.453335</td>\n",
       "      <td>0.161016</td>\n",
       "      <td>0.151299</td>\n",
       "      <td>0.119047</td>\n",
       "    </tr>\n",
       "  </tbody>\n",
       "</table>\n",
       "</div>"
      ],
      "text/plain": [
       "        Bearing 1   Bearing 2   Bearing 3   Bearing 4\n",
       "count  982.000000  982.000000  982.000000  982.000000\n",
       "mean     0.080951    0.078543    0.081351    0.047830\n",
       "std      0.040200    0.011789    0.011607    0.009549\n",
       "min      0.001168    0.000767    0.000716    0.001699\n",
       "25%      0.060773    0.074240    0.076829    0.043951\n",
       "50%      0.062021    0.075206    0.078187    0.044524\n",
       "75%      0.083277    0.077458    0.080575    0.048130\n",
       "max      0.453335    0.161016    0.151299    0.119047"
      ]
     },
     "execution_count": 8,
     "metadata": {},
     "output_type": "execute_result"
    }
   ],
   "source": [
    "df_index.describe()"
   ]
  },
  {
   "cell_type": "code",
   "execution_count": 9,
   "id": "d0104008",
   "metadata": {
    "scrolled": true
   },
   "outputs": [
    {
     "data": {
      "text/html": [
       "<div>\n",
       "<style scoped>\n",
       "    .dataframe tbody tr th:only-of-type {\n",
       "        vertical-align: middle;\n",
       "    }\n",
       "\n",
       "    .dataframe tbody tr th {\n",
       "        vertical-align: top;\n",
       "    }\n",
       "\n",
       "    .dataframe thead th {\n",
       "        text-align: right;\n",
       "    }\n",
       "</style>\n",
       "<table border=\"1\" class=\"dataframe\">\n",
       "  <thead>\n",
       "    <tr style=\"text-align: right;\">\n",
       "      <th></th>\n",
       "      <th>datetime</th>\n",
       "      <th>Bearing 1</th>\n",
       "      <th>Bearing 2</th>\n",
       "      <th>Bearing 3</th>\n",
       "      <th>Bearing 4</th>\n",
       "    </tr>\n",
       "  </thead>\n",
       "  <tbody>\n",
       "    <tr>\n",
       "      <th>0</th>\n",
       "      <td>False</td>\n",
       "      <td>False</td>\n",
       "      <td>False</td>\n",
       "      <td>False</td>\n",
       "      <td>False</td>\n",
       "    </tr>\n",
       "    <tr>\n",
       "      <th>1</th>\n",
       "      <td>False</td>\n",
       "      <td>False</td>\n",
       "      <td>False</td>\n",
       "      <td>False</td>\n",
       "      <td>False</td>\n",
       "    </tr>\n",
       "    <tr>\n",
       "      <th>2</th>\n",
       "      <td>False</td>\n",
       "      <td>False</td>\n",
       "      <td>False</td>\n",
       "      <td>False</td>\n",
       "      <td>False</td>\n",
       "    </tr>\n",
       "    <tr>\n",
       "      <th>3</th>\n",
       "      <td>False</td>\n",
       "      <td>False</td>\n",
       "      <td>False</td>\n",
       "      <td>False</td>\n",
       "      <td>False</td>\n",
       "    </tr>\n",
       "    <tr>\n",
       "      <th>4</th>\n",
       "      <td>False</td>\n",
       "      <td>False</td>\n",
       "      <td>False</td>\n",
       "      <td>False</td>\n",
       "      <td>False</td>\n",
       "    </tr>\n",
       "    <tr>\n",
       "      <th>...</th>\n",
       "      <td>...</td>\n",
       "      <td>...</td>\n",
       "      <td>...</td>\n",
       "      <td>...</td>\n",
       "      <td>...</td>\n",
       "    </tr>\n",
       "    <tr>\n",
       "      <th>977</th>\n",
       "      <td>False</td>\n",
       "      <td>False</td>\n",
       "      <td>False</td>\n",
       "      <td>False</td>\n",
       "      <td>False</td>\n",
       "    </tr>\n",
       "    <tr>\n",
       "      <th>978</th>\n",
       "      <td>False</td>\n",
       "      <td>False</td>\n",
       "      <td>False</td>\n",
       "      <td>False</td>\n",
       "      <td>False</td>\n",
       "    </tr>\n",
       "    <tr>\n",
       "      <th>979</th>\n",
       "      <td>False</td>\n",
       "      <td>False</td>\n",
       "      <td>False</td>\n",
       "      <td>False</td>\n",
       "      <td>False</td>\n",
       "    </tr>\n",
       "    <tr>\n",
       "      <th>980</th>\n",
       "      <td>False</td>\n",
       "      <td>False</td>\n",
       "      <td>False</td>\n",
       "      <td>False</td>\n",
       "      <td>False</td>\n",
       "    </tr>\n",
       "    <tr>\n",
       "      <th>981</th>\n",
       "      <td>False</td>\n",
       "      <td>False</td>\n",
       "      <td>False</td>\n",
       "      <td>False</td>\n",
       "      <td>False</td>\n",
       "    </tr>\n",
       "  </tbody>\n",
       "</table>\n",
       "<p>982 rows × 5 columns</p>\n",
       "</div>"
      ],
      "text/plain": [
       "     datetime  Bearing 1  Bearing 2  Bearing 3  Bearing 4\n",
       "0       False      False      False      False      False\n",
       "1       False      False      False      False      False\n",
       "2       False      False      False      False      False\n",
       "3       False      False      False      False      False\n",
       "4       False      False      False      False      False\n",
       "..        ...        ...        ...        ...        ...\n",
       "977     False      False      False      False      False\n",
       "978     False      False      False      False      False\n",
       "979     False      False      False      False      False\n",
       "980     False      False      False      False      False\n",
       "981     False      False      False      False      False\n",
       "\n",
       "[982 rows x 5 columns]"
      ]
     },
     "execution_count": 9,
     "metadata": {},
     "output_type": "execute_result"
    }
   ],
   "source": [
    "df.isnull()"
   ]
  },
  {
   "cell_type": "code",
   "execution_count": 10,
   "id": "52b405fa",
   "metadata": {
    "scrolled": true
   },
   "outputs": [
    {
     "data": {
      "text/html": [
       "<div>\n",
       "<style scoped>\n",
       "    .dataframe tbody tr th:only-of-type {\n",
       "        vertical-align: middle;\n",
       "    }\n",
       "\n",
       "    .dataframe tbody tr th {\n",
       "        vertical-align: top;\n",
       "    }\n",
       "\n",
       "    .dataframe thead th {\n",
       "        text-align: right;\n",
       "    }\n",
       "</style>\n",
       "<table border=\"1\" class=\"dataframe\">\n",
       "  <thead>\n",
       "    <tr style=\"text-align: right;\">\n",
       "      <th></th>\n",
       "      <th>Bearing 1</th>\n",
       "      <th>Bearing 2</th>\n",
       "      <th>Bearing 3</th>\n",
       "      <th>Bearing 4</th>\n",
       "    </tr>\n",
       "    <tr>\n",
       "      <th>datetime</th>\n",
       "      <th></th>\n",
       "      <th></th>\n",
       "      <th></th>\n",
       "      <th></th>\n",
       "    </tr>\n",
       "  </thead>\n",
       "  <tbody>\n",
       "    <tr>\n",
       "      <th>2004-02-12 10:52:39</th>\n",
       "      <td>False</td>\n",
       "      <td>False</td>\n",
       "      <td>False</td>\n",
       "      <td>False</td>\n",
       "    </tr>\n",
       "    <tr>\n",
       "      <th>2004-02-12 11:02:39</th>\n",
       "      <td>False</td>\n",
       "      <td>False</td>\n",
       "      <td>False</td>\n",
       "      <td>False</td>\n",
       "    </tr>\n",
       "    <tr>\n",
       "      <th>2004-02-12 11:12:39</th>\n",
       "      <td>False</td>\n",
       "      <td>False</td>\n",
       "      <td>False</td>\n",
       "      <td>False</td>\n",
       "    </tr>\n",
       "    <tr>\n",
       "      <th>2004-02-12 11:22:39</th>\n",
       "      <td>False</td>\n",
       "      <td>False</td>\n",
       "      <td>False</td>\n",
       "      <td>False</td>\n",
       "    </tr>\n",
       "    <tr>\n",
       "      <th>2004-02-12 11:32:39</th>\n",
       "      <td>False</td>\n",
       "      <td>False</td>\n",
       "      <td>False</td>\n",
       "      <td>False</td>\n",
       "    </tr>\n",
       "    <tr>\n",
       "      <th>...</th>\n",
       "      <td>...</td>\n",
       "      <td>...</td>\n",
       "      <td>...</td>\n",
       "      <td>...</td>\n",
       "    </tr>\n",
       "    <tr>\n",
       "      <th>2004-02-19 05:42:39</th>\n",
       "      <td>False</td>\n",
       "      <td>False</td>\n",
       "      <td>False</td>\n",
       "      <td>False</td>\n",
       "    </tr>\n",
       "    <tr>\n",
       "      <th>2004-02-19 05:52:39</th>\n",
       "      <td>False</td>\n",
       "      <td>False</td>\n",
       "      <td>False</td>\n",
       "      <td>False</td>\n",
       "    </tr>\n",
       "    <tr>\n",
       "      <th>2004-02-19 06:02:39</th>\n",
       "      <td>False</td>\n",
       "      <td>False</td>\n",
       "      <td>False</td>\n",
       "      <td>False</td>\n",
       "    </tr>\n",
       "    <tr>\n",
       "      <th>2004-02-19 06:12:39</th>\n",
       "      <td>False</td>\n",
       "      <td>False</td>\n",
       "      <td>False</td>\n",
       "      <td>False</td>\n",
       "    </tr>\n",
       "    <tr>\n",
       "      <th>2004-02-19 06:22:39</th>\n",
       "      <td>False</td>\n",
       "      <td>False</td>\n",
       "      <td>False</td>\n",
       "      <td>False</td>\n",
       "    </tr>\n",
       "  </tbody>\n",
       "</table>\n",
       "<p>982 rows × 4 columns</p>\n",
       "</div>"
      ],
      "text/plain": [
       "                     Bearing 1  Bearing 2  Bearing 3  Bearing 4\n",
       "datetime                                                       \n",
       "2004-02-12 10:52:39      False      False      False      False\n",
       "2004-02-12 11:02:39      False      False      False      False\n",
       "2004-02-12 11:12:39      False      False      False      False\n",
       "2004-02-12 11:22:39      False      False      False      False\n",
       "2004-02-12 11:32:39      False      False      False      False\n",
       "...                        ...        ...        ...        ...\n",
       "2004-02-19 05:42:39      False      False      False      False\n",
       "2004-02-19 05:52:39      False      False      False      False\n",
       "2004-02-19 06:02:39      False      False      False      False\n",
       "2004-02-19 06:12:39      False      False      False      False\n",
       "2004-02-19 06:22:39      False      False      False      False\n",
       "\n",
       "[982 rows x 4 columns]"
      ]
     },
     "execution_count": 10,
     "metadata": {},
     "output_type": "execute_result"
    }
   ],
   "source": [
    "df_index.isnull()"
   ]
  },
  {
   "cell_type": "markdown",
   "id": "fb305d4e",
   "metadata": {},
   "source": [
    "### Exploratory Data Analysis (EDA)"
   ]
  },
  {
   "cell_type": "code",
   "execution_count": 11,
   "id": "1cb45807",
   "metadata": {
    "scrolled": false
   },
   "outputs": [
    {
     "data": {
      "text/plain": [
       "[<matplotlib.lines.Line2D at 0x2702bc94490>,\n",
       " <matplotlib.lines.Line2D at 0x2702bcb4af0>,\n",
       " <matplotlib.lines.Line2D at 0x2702bcb4a30>,\n",
       " <matplotlib.lines.Line2D at 0x2702bcb4970>]"
      ]
     },
     "execution_count": 11,
     "metadata": {},
     "output_type": "execute_result"
    },
    {
     "data": {
      "image/png": "[encoded data removed]",
      "text/plain": [
       "<Figure size 432x288 with 1 Axes>"
      ]
     },
     "metadata": {
      "needs_background": "light"
     },
     "output_type": "display_data"
    }
   ],
   "source": [
    "plt.plot(df_index)\n",
    "#plt.plot(df[\"datetime\"], df[\"Bearing 1\"])"
   ]
  },
  {
   "cell_type": "code",
   "execution_count": 12,
   "id": "4ee0a275",
   "metadata": {},
   "outputs": [
    {
     "data": {
      "text/plain": [
       "[<matplotlib.lines.Line2D at 0x2702bd81760>]"
      ]
     },
     "execution_count": 12,
     "metadata": {},
     "output_type": "execute_result"
    },
    {
     "data": {
      "image/png": "[encoded data removed]",
      "text/plain": [
       "<Figure size 432x288 with 1 Axes>"
      ]
     },
     "metadata": {
      "needs_background": "light"
     },
     "output_type": "display_data"
    }
   ],
   "source": [
    "plt.plot(df[\"datetime\"], df[\"Bearing 1\"])"
   ]
  },
  {
   "cell_type": "code",
   "execution_count": 13,
   "id": "7d7e319e",
   "metadata": {},
   "outputs": [
    {
     "data": {
      "text/plain": [
       "[<matplotlib.lines.Line2D at 0x2702bdde580>]"
      ]
     },
     "execution_count": 13,
     "metadata": {},
     "output_type": "execute_result"
    },
    {
     "data": {
      "image/png": "[encoded data removed]",
      "text/plain": [
       "<Figure size 432x288 with 1 Axes>"
      ]
     },
     "metadata": {
      "needs_background": "light"
     },
     "output_type": "display_data"
    }
   ],
   "source": [
    "plt.plot(df[\"datetime\"], df[\"Bearing 2\"])"
   ]
  },
  {
   "cell_type": "code",
   "execution_count": 14,
   "id": "d43bb48a",
   "metadata": {
    "scrolled": true
   },
   "outputs": [
    {
     "data": {
      "text/plain": [
       "[<matplotlib.lines.Line2D at 0x2702be28f40>]"
      ]
     },
     "execution_count": 14,
     "metadata": {},
     "output_type": "execute_result"
    },
    {
     "data": {
      "image/png": "[encoded data removed]",
      "text/plain": [
       "<Figure size 432x288 with 1 Axes>"
      ]
     },
     "metadata": {
      "needs_background": "light"
     },
     "output_type": "display_data"
    }
   ],
   "source": [
    "plt.plot(df[\"datetime\"], df[\"Bearing 3\"])"
   ]
  },
  {
   "cell_type": "code",
   "execution_count": 15,
   "id": "766bb613",
   "metadata": {},
   "outputs": [
    {
     "data": {
      "text/plain": [
       "[<matplotlib.lines.Line2D at 0x2702be7d250>]"
      ]
     },
     "execution_count": 15,
     "metadata": {},
     "output_type": "execute_result"
    },
    {
     "data": {
      "image/png": "[encoded data removed]",
      "text/plain": [
       "<Figure size 432x288 with 1 Axes>"
      ]
     },
     "metadata": {
      "needs_background": "light"
     },
     "output_type": "display_data"
    }
   ],
   "source": [
    "plt.plot(df[\"datetime\"], df[\"Bearing 4\"])"
   ]
  },
  {
   "cell_type": "markdown",
   "id": "321f9a68",
   "metadata": {},
   "source": [
    "As we can see from the plot figure, there is a flop at the end of the data. If we really see the real data by our own naked eyes too, we can see the drop suddenly come at the end from above 0.5 to be below 0.1. This shows there are some anomalies/outlier on the data.\n",
    "\n",
    "As we don't know where the anomalies located right now from just looking at the plot figure, we have to normalize the data and do some preditions for the outlier."
   ]
  },
  {
   "cell_type": "markdown",
   "id": "c6a8bf5c",
   "metadata": {},
   "source": [
    "#### Since we are dealing with \"Time Series\" data type, we have to check if the data is Stationary or Non-Stationary. This is important because dealing with Time Series data will get you lower or unexpected result if you dont know which type the data is.\n",
    "\n",
    "There are 2 approaches that i used to check it:\n",
    "1. Augmented Dickey-Fuller (ADF) Test\n",
    "2. Kwiatkowski-Philips-Schmidt-Shin (KPSS) Test"
   ]
  },
  {
   "cell_type": "markdown",
   "id": "77c00323",
   "metadata": {},
   "source": [
    "### Perform ADF Test"
   ]
  },
  {
   "cell_type": "code",
   "execution_count": 16,
   "id": "2a972581",
   "metadata": {},
   "outputs": [
    {
     "name": "stdout",
     "output_type": "stream",
     "text": [
      "Results of Augmented Dickey-Fuller Test: \n",
      "Test Statistics                  0.891740\n",
      "p-value                          0.992982\n",
      "#Lags Used                      22.000000\n",
      "Number of Observations Used    959.000000\n",
      "Critical Value (1%)             -3.437187\n",
      "Critical Value (5%)             -2.864559\n",
      "Critical Value (10%)            -2.568377\n",
      "dtype: float64\n",
      "Results of Augmented Dickey-Fuller Test: \n",
      "Test Statistics                  3.288457\n",
      "p-value                          1.000000\n",
      "#Lags Used                      22.000000\n",
      "Number of Observations Used    959.000000\n",
      "Critical Value (1%)             -3.437187\n",
      "Critical Value (5%)             -2.864559\n",
      "Critical Value (10%)            -2.568377\n",
      "dtype: float64\n",
      "Results of Augmented Dickey-Fuller Test: \n",
      "Test Statistics                  1.857942\n",
      "p-value                          0.998457\n",
      "#Lags Used                      22.000000\n",
      "Number of Observations Used    959.000000\n",
      "Critical Value (1%)             -3.437187\n",
      "Critical Value (5%)             -2.864559\n",
      "Critical Value (10%)            -2.568377\n",
      "dtype: float64\n",
      "Results of Augmented Dickey-Fuller Test: \n",
      "Test Statistics                  3.253174\n",
      "p-value                          1.000000\n",
      "#Lags Used                      22.000000\n",
      "Number of Observations Used    959.000000\n",
      "Critical Value (1%)             -3.437187\n",
      "Critical Value (5%)             -2.864559\n",
      "Critical Value (10%)            -2.568377\n",
      "dtype: float64\n"
     ]
    }
   ],
   "source": [
    "def adf_test(timeseries):\n",
    "    # Perform Augmented Dickey-Fuller Test:\n",
    "    print(\"Results of Augmented Dickey-Fuller Test: \")\n",
    "    adftest = adfuller(timeseries, autolag='AIC')\n",
    "    adfoutput = pd.Series(adftest[0:4], index=['Test Statistics', 'p-value', '#Lags Used', 'Number of Observations Used'])\n",
    "    for key, value in adftest[4].items():\n",
    "        adfoutput['Critical Value (%s) '%key] = value\n",
    "    print(adfoutput)\n",
    "    \n",
    "# Apply adf test on the series\n",
    "adf_test(df['Bearing 1'])\n",
    "adf_test(df['Bearing 2'])\n",
    "adf_test(df['Bearing 3'])\n",
    "adf_test(df['Bearing 4'])"
   ]
  },
  {
   "cell_type": "markdown",
   "id": "5976fcfa",
   "metadata": {},
   "source": [
    "Since the p-value is not less than .05, we fail to reject the null hypothesis. This means the time series is non-stationary. In other words, it has some time-dependent structure and does not have constant variance over time.\n",
    "\n",
    "Test for stationary is :\n",
    "\n",
    "If the Test Statistic < the Critical Value, we can reject the null hypothesis (The series is stationary). When the Test Statistics > Critical Value, we fail to reject the null hypothesis (The series is Non-Stationary)."
   ]
  },
  {
   "cell_type": "markdown",
   "id": "a8319f70",
   "metadata": {},
   "source": [
    "### KPSS (Kwiatkowski-Philips-Schmidt-Shin) Test"
   ]
  },
  {
   "cell_type": "code",
   "execution_count": 17,
   "id": "85f3fec0",
   "metadata": {},
   "outputs": [
    {
     "name": "stdout",
     "output_type": "stream",
     "text": [
      "Results of KPSS Test: \n",
      "Test Statistic            2.417452\n",
      "p-value                   0.010000\n",
      "Lags Used                22.000000\n",
      "Critical Value (10%)      0.347000\n",
      "Critical Value (5%)       0.463000\n",
      "Critical Value (2.5%)     0.574000\n",
      "Critical Value (1%)       0.739000\n",
      "dtype: float64\n",
      "Results of KPSS Test: \n",
      "Test Statistic            1.532232\n",
      "p-value                   0.010000\n",
      "Lags Used                22.000000\n",
      "Critical Value (10%)      0.347000\n",
      "Critical Value (5%)       0.463000\n",
      "Critical Value (2.5%)     0.574000\n",
      "Critical Value (1%)       0.739000\n",
      "dtype: float64\n",
      "Results of KPSS Test: \n",
      "Test Statistic            1.242767\n",
      "p-value                   0.010000\n",
      "Lags Used                22.000000\n",
      "Critical Value (10%)      0.347000\n",
      "Critical Value (5%)       0.463000\n",
      "Critical Value (2.5%)     0.574000\n",
      "Critical Value (1%)       0.739000\n",
      "dtype: float64\n",
      "Results of KPSS Test: \n",
      "Test Statistic            1.882379\n",
      "p-value                   0.010000\n",
      "Lags Used                22.000000\n",
      "Critical Value (10%)      0.347000\n",
      "Critical Value (5%)       0.463000\n",
      "Critical Value (2.5%)     0.574000\n",
      "Critical Value (1%)       0.739000\n",
      "dtype: float64\n"
     ]
    }
   ],
   "source": [
    "def kpss_test(timeseries):\n",
    "    print(\"Results of KPSS Test: \")\n",
    "    kpsstest = kpss(timeseries, regression='c')\n",
    "    kpss_output = pd.Series(kpsstest[0:3], index=['Test Statistic', 'p-value', 'Lags Used'])\n",
    "    for key, value in kpsstest[3].items():\n",
    "        kpss_output['Critical Value (%s)'%key] = value\n",
    "    print(kpss_output)\n",
    "\n",
    "# Apply kpss test on the series\n",
    "kpss_test(df['Bearing 1'])\n",
    "kpss_test(df['Bearing 2'])\n",
    "kpss_test(df['Bearing 3'])\n",
    "kpss_test(df['Bearing 4'])"
   ]
  },
  {
   "cell_type": "markdown",
   "id": "f430b17d",
   "metadata": {},
   "source": [
    "Test for stationarity is :\n",
    "\n",
    "If the Test Statistic > Critical Value, we reject the null hypothesis (Series is Non-Stationary). If the Test Statistic < Critical Value, we can't reject the null hypothesis (Series is Stationary). We can say this data is Non-Stationary."
   ]
  },
  {
   "cell_type": "markdown",
   "id": "ab7b9911",
   "metadata": {},
   "source": [
    "### Check for all columns if its stationary or non stationary\n",
    "This is only done with ADF test"
   ]
  },
  {
   "cell_type": "code",
   "execution_count": 18,
   "id": "53c7bc99",
   "metadata": {},
   "outputs": [],
   "source": [
    "def test_stationary(timeseries, column='', signif=0.05, series=False):\n",
    "    if series:\n",
    "        adf_test = adfuller(timeseries, autolag='AIC')\n",
    "    else:\n",
    "        adf_test = adfuller(timeseries[column], autolag='AIC')\n",
    "    p_value = adf_test[1]\n",
    "    if p_value <= signif:\n",
    "        test_result = \"Stationary\"\n",
    "    else:\n",
    "        test_result = \"Non-Stationary\"\n",
    "    return test_result"
   ]
  },
  {
   "cell_type": "code",
   "execution_count": 19,
   "id": "ac75918b",
   "metadata": {},
   "outputs": [
    {
     "data": {
      "text/plain": [
       "{'Bearing 1': 'Non-Stationary',\n",
       " 'Bearing 2': 'Non-Stationary',\n",
       " 'Bearing 3': 'Non-Stationary',\n",
       " 'Bearing 4': 'Non-Stationary'}"
      ]
     },
     "execution_count": 19,
     "metadata": {},
     "output_type": "execute_result"
    }
   ],
   "source": [
    "adf_test_results = {\n",
    "    col: test_stationary(df_index, col)\n",
    "    for col in df_index.columns\n",
    "}\n",
    "adf_test_results"
   ]
  },
  {
   "cell_type": "markdown",
   "id": "3c6dad47",
   "metadata": {},
   "source": [
    "##### Convert non-stationary data into stationary data\n",
    "There are many ways to convert the non-stationary data into stationary data like differencing, log transformation, and seasonal decomposition/seasonal differencing. I will be using Differencing method to convert the data."
   ]
  },
  {
   "cell_type": "code",
   "execution_count": 20,
   "id": "d83426bc",
   "metadata": {},
   "outputs": [],
   "source": [
    "def differencing(timeseries, column, order):\n",
    "    differenced_data = timeseries[column].diff(order)\n",
    "    differenced_data.fillna(differenced_data.mean(), inplace=True)\n",
    "    return differenced_data\n",
    "for col in df_index.columns:\n",
    "    df_index[col] = differencing(df_index, col, 1)"
   ]
  },
  {
   "cell_type": "code",
   "execution_count": 21,
   "id": "64f299db",
   "metadata": {},
   "outputs": [
    {
     "data": {
      "text/plain": [
       "{'Bearing 1': 'Stationary',\n",
       " 'Bearing 2': 'Stationary',\n",
       " 'Bearing 3': 'Stationary',\n",
       " 'Bearing 4': 'Stationary'}"
      ]
     },
     "execution_count": 21,
     "metadata": {},
     "output_type": "execute_result"
    }
   ],
   "source": [
    "adf_test_results = {\n",
    "    col: test_stationary(df_index, col)\n",
    "    for col in df_index.columns\n",
    "}\n",
    "adf_test_results"
   ]
  },
  {
   "cell_type": "markdown",
   "id": "f70ad6f9",
   "metadata": {},
   "source": [
    "## Anomaly Detection\n",
    "\n",
    "### Using VAR (Vector Auto-Regression) Model"
   ]
  },
  {
   "cell_type": "code",
   "execution_count": 22,
   "id": "1477eb81",
   "metadata": {},
   "outputs": [
    {
     "name": "stdout",
     "output_type": "stream",
     "text": [
      "20\n"
     ]
    }
   ],
   "source": [
    "max_lag = 20\n",
    "var_model = VAR(df_index)\n",
    "\n",
    "# select the best lag order\n",
    "lag_results = var_model.select_order(max_lag)\n",
    "selected_lag = lag_results.aic\n",
    "print(selected_lag)"
   ]
  },
  {
   "cell_type": "code",
   "execution_count": 23,
   "id": "a301e944",
   "metadata": {},
   "outputs": [
    {
     "name": "stdout",
     "output_type": "stream",
     "text": [
      "0.00031680749167823725\n"
     ]
    }
   ],
   "source": [
    "def find_anomalies(squared_errors):\n",
    "    threshold = np.mean(squared_errors) + np.std(squared_errors)\n",
    "    predictions = (squared_errors >= threshold).astype(int)\n",
    "    return predictions, threshold\n",
    "\n",
    "var = VAR(df_index)\n",
    "var_fitresults = var.fit(selected_lag)\n",
    "squared_errors = var_fitresults.resid.sum(axis=1) ** 2\n",
    "predictions, threshold = find_anomalies(squared_errors)\n",
    "print(threshold)"
   ]
  },
  {
   "cell_type": "markdown",
   "id": "a660104f",
   "metadata": {},
   "source": [
    "threshold = mean(squared_errors) + z * standard_deviation(squared_errors)\n",
    "\n",
    "We can fit the VAR model and find the squared erros of the data by using the selected lag. The squared errors are used to fine the threshold and also can act as an observations of which data can be considered to be anomalies."
   ]
  },
  {
   "cell_type": "code",
   "execution_count": 24,
   "id": "39c7c9a6",
   "metadata": {
    "scrolled": true
   },
   "outputs": [
    {
     "data": {
      "text/html": [
       "<div>\n",
       "<style scoped>\n",
       "    .dataframe tbody tr th:only-of-type {\n",
       "        vertical-align: middle;\n",
       "    }\n",
       "\n",
       "    .dataframe tbody tr th {\n",
       "        vertical-align: top;\n",
       "    }\n",
       "\n",
       "    .dataframe thead th {\n",
       "        text-align: right;\n",
       "    }\n",
       "</style>\n",
       "<table border=\"1\" class=\"dataframe\">\n",
       "  <thead>\n",
       "    <tr style=\"text-align: right;\">\n",
       "      <th></th>\n",
       "      <th>Bearing 1</th>\n",
       "      <th>Bearing 2</th>\n",
       "      <th>Bearing 3</th>\n",
       "      <th>Bearing 4</th>\n",
       "      <th>Predictions</th>\n",
       "    </tr>\n",
       "    <tr>\n",
       "      <th>datetime</th>\n",
       "      <th></th>\n",
       "      <th></th>\n",
       "      <th></th>\n",
       "      <th></th>\n",
       "      <th></th>\n",
       "    </tr>\n",
       "  </thead>\n",
       "  <tbody>\n",
       "    <tr>\n",
       "      <th>2004-02-12 14:12:39</th>\n",
       "      <td>-0.000112</td>\n",
       "      <td>-0.001499</td>\n",
       "      <td>-0.000481</td>\n",
       "      <td>-0.000338</td>\n",
       "      <td>0</td>\n",
       "    </tr>\n",
       "    <tr>\n",
       "      <th>2004-02-12 14:22:39</th>\n",
       "      <td>0.000093</td>\n",
       "      <td>0.001593</td>\n",
       "      <td>-0.000679</td>\n",
       "      <td>0.001614</td>\n",
       "      <td>0</td>\n",
       "    </tr>\n",
       "    <tr>\n",
       "      <th>2004-02-12 14:32:39</th>\n",
       "      <td>-0.000158</td>\n",
       "      <td>0.000147</td>\n",
       "      <td>0.002440</td>\n",
       "      <td>-0.000524</td>\n",
       "      <td>0</td>\n",
       "    </tr>\n",
       "    <tr>\n",
       "      <th>2004-02-12 14:42:39</th>\n",
       "      <td>-0.001120</td>\n",
       "      <td>-0.001506</td>\n",
       "      <td>-0.001008</td>\n",
       "      <td>-0.000374</td>\n",
       "      <td>0</td>\n",
       "    </tr>\n",
       "    <tr>\n",
       "      <th>2004-02-12 14:52:39</th>\n",
       "      <td>0.000123</td>\n",
       "      <td>0.001520</td>\n",
       "      <td>-0.001693</td>\n",
       "      <td>-0.000276</td>\n",
       "      <td>0</td>\n",
       "    </tr>\n",
       "    <tr>\n",
       "      <th>...</th>\n",
       "      <td>...</td>\n",
       "      <td>...</td>\n",
       "      <td>...</td>\n",
       "      <td>...</td>\n",
       "      <td>...</td>\n",
       "    </tr>\n",
       "    <tr>\n",
       "      <th>2004-02-19 05:42:39</th>\n",
       "      <td>0.151992</td>\n",
       "      <td>0.020581</td>\n",
       "      <td>0.025977</td>\n",
       "      <td>0.004552</td>\n",
       "      <td>0</td>\n",
       "    </tr>\n",
       "    <tr>\n",
       "      <th>2004-02-19 05:52:39</th>\n",
       "      <td>-0.115753</td>\n",
       "      <td>-0.028617</td>\n",
       "      <td>0.007552</td>\n",
       "      <td>-0.026923</td>\n",
       "      <td>1</td>\n",
       "    </tr>\n",
       "    <tr>\n",
       "      <th>2004-02-19 06:02:39</th>\n",
       "      <td>0.013529</td>\n",
       "      <td>0.019867</td>\n",
       "      <td>0.006307</td>\n",
       "      <td>0.008693</td>\n",
       "      <td>0</td>\n",
       "    </tr>\n",
       "    <tr>\n",
       "      <th>2004-02-19 06:12:39</th>\n",
       "      <td>-0.349255</td>\n",
       "      <td>-0.148535</td>\n",
       "      <td>-0.147644</td>\n",
       "      <td>-0.099031</td>\n",
       "      <td>1</td>\n",
       "    </tr>\n",
       "    <tr>\n",
       "      <th>2004-02-19 06:22:39</th>\n",
       "      <td>-0.000688</td>\n",
       "      <td>-0.002964</td>\n",
       "      <td>-0.002940</td>\n",
       "      <td>-0.000087</td>\n",
       "      <td>0</td>\n",
       "    </tr>\n",
       "  </tbody>\n",
       "</table>\n",
       "<p>962 rows × 5 columns</p>\n",
       "</div>"
      ],
      "text/plain": [
       "                     Bearing 1  Bearing 2  Bearing 3  Bearing 4  Predictions\n",
       "datetime                                                                    \n",
       "2004-02-12 14:12:39  -0.000112  -0.001499  -0.000481  -0.000338            0\n",
       "2004-02-12 14:22:39   0.000093   0.001593  -0.000679   0.001614            0\n",
       "2004-02-12 14:32:39  -0.000158   0.000147   0.002440  -0.000524            0\n",
       "2004-02-12 14:42:39  -0.001120  -0.001506  -0.001008  -0.000374            0\n",
       "2004-02-12 14:52:39   0.000123   0.001520  -0.001693  -0.000276            0\n",
       "...                        ...        ...        ...        ...          ...\n",
       "2004-02-19 05:42:39   0.151992   0.020581   0.025977   0.004552            0\n",
       "2004-02-19 05:52:39  -0.115753  -0.028617   0.007552  -0.026923            1\n",
       "2004-02-19 06:02:39   0.013529   0.019867   0.006307   0.008693            0\n",
       "2004-02-19 06:12:39  -0.349255  -0.148535  -0.147644  -0.099031            1\n",
       "2004-02-19 06:22:39  -0.000688  -0.002964  -0.002940  -0.000087            0\n",
       "\n",
       "[962 rows x 5 columns]"
      ]
     },
     "execution_count": 24,
     "metadata": {},
     "output_type": "execute_result"
    }
   ],
   "source": [
    "data = df_index.iloc[selected_lag:, :]\n",
    "data['Predictions'] = predictions.values\n",
    "data"
   ]
  },
  {
   "cell_type": "code",
   "execution_count": 25,
   "id": "59599b71",
   "metadata": {},
   "outputs": [
    {
     "data": {
      "text/plain": [
       "0    924\n",
       "1     38\n",
       "Name: Predictions, dtype: int64"
      ]
     },
     "execution_count": 25,
     "metadata": {},
     "output_type": "execute_result"
    }
   ],
   "source": [
    "data['Predictions'].value_counts()"
   ]
  },
  {
   "cell_type": "markdown",
   "id": "7b474aa5",
   "metadata": {},
   "source": [
    "Now we get the predictions for the data and knows where the anomalies/outliers are located and how many outliers from the data are there. From the data, we know that label 1 is for anomalies/outliers and label 0 is for normal data.\n",
    "\n",
    "In conclusion, we have 924 normal data and 38 anomalies/outliers from the model that we tried."
   ]
  },
  {
   "cell_type": "code",
   "execution_count": null,
   "id": "0c12b96c",
   "metadata": {},
   "outputs": [],
   "source": []
  }
 ],
 "metadata": {
  "kernelspec": {
   "display_name": "Python 3",
   "language": "python",
   "name": "python3"
  },
  "language_info": {
   "codemirror_mode": {
    "name": "ipython",
    "version": 3
   },
   "file_extension": ".py",
   "mimetype": "text/x-python",
   "name": "python",
   "nbconvert_exporter": "python",
   "pygments_lexer": "ipython3",
   "version": "3.8.8"
  }
 },
 "nbformat": 4,
 "nbformat_minor": 5
}
